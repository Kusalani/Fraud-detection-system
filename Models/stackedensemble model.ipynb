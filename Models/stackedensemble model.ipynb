{
 "cells": [
  {
   "cell_type": "code",
   "execution_count": 1,
   "metadata": {},
   "outputs": [],
   "source": [
    "import pandas as pd\n",
    "import numpy as np\n",
    "from sklearn.model_selection import train_test_split\n",
    "from sklearn.preprocessing import StandardScaler\n",
    "from sklearn.metrics import classification_report, confusion_matrix\n",
    "from imblearn.over_sampling import SMOTE"
   ]
  },
  {
   "cell_type": "code",
   "execution_count": 8,
   "metadata": {},
   "outputs": [
    {
     "name": "stdout",
     "output_type": "stream",
     "text": [
      "  Transaction ID            Timestamp  Sender Account ID Transaction Type  \\\n",
      "0         T00001  2023-08-14 08:37:07              10095         Transfer   \n",
      "1         T00002  2023-12-04 12:54:11              10098         Transfer   \n",
      "2         T00003  2023-07-09 23:16:11              10097           Credit   \n",
      "3         T00004  2023-06-26 07:04:39              10039           Credit   \n",
      "4         T00005  2023-09-28 02:40:56              10018            Debit   \n",
      "\n",
      "  IN_OUT   Amount Recipient Bank  Fraud  \n",
      "0     In  4887.67          B0004      0  \n",
      "1     In  2371.33         B00010      0  \n",
      "2     In  4733.44          B0008      0  \n",
      "3     In  1544.12          B0005      0  \n",
      "4    Out  3978.04          B0004      0  \n",
      "   Customer ID                Name  Age      Location  Gender Account Type  \\\n",
      "0        10001      Nimal Fernando   61        Jaffna  Female      Savings   \n",
      "1        10002  Sunil Samarasinghe   60        Jaffna   Other      Current   \n",
      "2        10003    Ruwan Jayasinghe   67         Galle   Other      Savings   \n",
      "3        10004      Lakshan Perera   19  Anuradhapura  Female      Savings   \n",
      "4        10005        Ruwan Kumara   52     Ratnapura   Other      Current   \n",
      "\n",
      "   Device Count  \n",
      "0             5  \n",
      "1             3  \n",
      "2             1  \n",
      "3             5  \n",
      "4             4  \n"
     ]
    }
   ],
   "source": [
    "# Load the datasets\n",
    "transactions_df = pd.read_csv('../data/updated_fraud_transactions.csv')\n",
    "customers_df = pd.read_csv('../data/customer_dataset 1.csv')\n",
    "\n",
    "# Display the first few rows of each dataset\n",
    "print(transactions_df.head())\n",
    "print(customers_df.head())"
   ]
  }
 ],
 "metadata": {
  "kernelspec": {
   "display_name": "myenv",
   "language": "python",
   "name": "python3"
  },
  "language_info": {
   "codemirror_mode": {
    "name": "ipython",
    "version": 3
   },
   "file_extension": ".py",
   "mimetype": "text/x-python",
   "name": "python",
   "nbconvert_exporter": "python",
   "pygments_lexer": "ipython3",
   "version": "3.11.5"
  }
 },
 "nbformat": 4,
 "nbformat_minor": 2
}
